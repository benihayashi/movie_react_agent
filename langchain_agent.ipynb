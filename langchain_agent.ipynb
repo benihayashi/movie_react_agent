{
 "cells": [
  {
   "cell_type": "markdown",
   "metadata": {},
   "source": [
    "Import the libraries"
   ]
  },
  {
   "cell_type": "code",
   "execution_count": 30,
   "metadata": {},
   "outputs": [
    {
     "data": {
      "text/plain": [
       "True"
      ]
     },
     "execution_count": 30,
     "metadata": {},
     "output_type": "execute_result"
    }
   ],
   "source": [
    "from dotenv import load_dotenv\n",
    "from langchain import hub\n",
    "from langchain.agents import (\n",
    "    AgentExecutor,\n",
    "    create_react_agent,\n",
    ")\n",
    "from langchain_core.tools import tool\n",
    "from langchain_openai import ChatOpenAI\n",
    "import os\n",
    "import datetime\n",
    "\n",
    "load_dotenv()"
   ]
  },
  {
   "cell_type": "markdown",
   "metadata": {},
   "source": [
    "Define tools"
   ]
  },
  {
   "cell_type": "code",
   "execution_count": 49,
   "metadata": {},
   "outputs": [],
   "source": [
    "from test.test_typing import Annotated\n",
    "\n",
    "\n",
    "@tool(\"get_current_datetime\")\n",
    "def get_current_datetime() -> str :\n",
    "    \"\"\"Get current date and time\"\"\"\n",
    "    return datetime.datetime.now().strftime('%m/%d/%Y, %H:%M:%S')\n",
    "\n",
    "@tool(\"convert_to_japanse_datetime_custom\")\n",
    "def convert_to_japanse_datetime(a: Annotated[str, 'date string in ISO format']) -> str :\n",
    "    \"\"\"Convert date string to custom japanese date time\"\"\"\n",
    "    dt = datetime.datetime.fromisoformat(a)\n",
    "    return f\"{dt.year}年{dt.month}月{dt.day}日　{dt.hour}時{dt.minute}分{dt.second}秒 hehe\""
   ]
  },
  {
   "cell_type": "markdown",
   "metadata": {},
   "source": [
    "Initialized OpenAI LLM"
   ]
  },
  {
   "cell_type": "code",
   "execution_count": null,
   "metadata": {},
   "outputs": [],
   "source": [
    "# Initialize a ChatOpenAI model\n",
    "llm = ChatOpenAI(\n",
    "    model=\"gpt-4o-mini\",\n",
    "    api_key=os.getenv('OPENAI_KEY'),\n",
    ")\n",
    "\n",
    "tools = [\n",
    "    get_current_datetime,\n",
    "    convert_to_japanse_datetime\n",
    "]\n",
    "\n",
    "prompt = hub.pull(\"hwchase17/react\",api_key=os.getenv('LANGSMITH_KEY'),)\n",
    "agent = create_react_agent(\n",
    "    llm=llm,\n",
    "    tools=tools,\n",
    "    prompt=prompt,\n",
    "    stop_sequence=True,\n",
    ")\n",
    "\n",
    "\n",
    "# Create an agent executor from the agent and tools\n",
    "agent_executor = AgentExecutor.from_agent_and_tools(\n",
    "    agent=agent,\n",
    "    tools=tools,\n",
    "    verbose=True,\n",
    ")"
   ]
  },
  {
   "cell_type": "markdown",
   "metadata": {},
   "source": [
    "Testing"
   ]
  },
  {
   "cell_type": "code",
   "execution_count": 51,
   "metadata": {},
   "outputs": [
    {
     "name": "stdout",
     "output_type": "stream",
     "text": [
      "\n",
      "\n",
      "\u001b[1m> Entering new AgentExecutor chain...\u001b[0m\n",
      "\u001b[32;1m\u001b[1;3mI need to get the current datetime first, and then convert it to Japanese format.  \n",
      "Action: get_current_datetime  \n",
      "Action Input: None  \u001b[0m\u001b[36;1m\u001b[1;3m02/21/2025, 20:55:28\u001b[0m\u001b[32;1m\u001b[1;3mI now have the current datetime in standard format, which is \"02/21/2025, 20:55:28\".  \n",
      "Now I need to convert this datetime into Japanese format.  \n",
      "Action: convert_to_japanse_datetime_custom  \n",
      "Action Input: \"2025-02-21T20:55:28\"  \u001b[0m\u001b[33;1m\u001b[1;3m2025年2月21日　20時55分28秒 hehe\u001b[0m\u001b[32;1m\u001b[1;3mI now know the final answer, which includes both the current datetime and its Japanese format.  \n",
      "Final Answer: The current datetime is 02/21/2025, 20:55:28 and in Japanese format, it is 2025年2月21日　20時55分28秒.\u001b[0m\n",
      "\n",
      "\u001b[1m> Finished chain.\u001b[0m\n",
      "response: {'input': ['Tell me the current datetime and in japanese format'], 'output': 'The current datetime is 02/21/2025, 20:55:28 and in Japanese format, it is 2025年2月21日\\u300020時55分28秒.'}\n"
     ]
    }
   ],
   "source": [
    "response = agent_executor.invoke(input={\"input\": [\"Tell me the current datetime and in japanese format\"]})\n",
    "print(\"response:\", response)"
   ]
  }
 ],
 "metadata": {
  "kernelspec": {
   "display_name": "Python 3",
   "language": "python",
   "name": "python3"
  },
  "language_info": {
   "codemirror_mode": {
    "name": "ipython",
    "version": 3
   },
   "file_extension": ".py",
   "mimetype": "text/x-python",
   "name": "python",
   "nbconvert_exporter": "python",
   "pygments_lexer": "ipython3",
   "version": "3.9.0"
  }
 },
 "nbformat": 4,
 "nbformat_minor": 2
}
