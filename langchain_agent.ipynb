{
 "cells": [
  {
   "cell_type": "markdown",
   "metadata": {},
   "source": [
    "Import the libraries"
   ]
  },
  {
   "cell_type": "code",
   "execution_count": null,
   "metadata": {},
   "outputs": [
    {
     "data": {
      "text/plain": [
       "True"
      ]
     },
     "execution_count": 1,
     "metadata": {},
     "output_type": "execute_result"
    }
   ],
   "source": [
    "from dotenv import load_dotenv\n",
    "from langchain import hub\n",
    "from langchain.agents import (\n",
    "    AgentExecutor,\n",
    "    create_react_agent,\n",
    ")\n",
    "from langchain_core.tools import tool\n",
    "from langchain_openai import ChatOpenAI\n",
    "import os\n",
    "import datetime\n",
    "import urllib\n",
    "\n",
    "load_dotenv()"
   ]
  },
  {
   "cell_type": "markdown",
   "metadata": {},
   "source": [
    "Define tools"
   ]
  },
  {
   "cell_type": "code",
   "execution_count": 3,
   "metadata": {},
   "outputs": [],
   "source": [
    "from test.test_typing import Annotated\n",
    "\n",
    "\n",
    "@tool(\"get_current_datetime\")\n",
    "def get_current_datetime() -> str :\n",
    "    \"\"\"Get current date and time\"\"\"\n",
    "    return datetime.datetime.now().strftime('%m/%d/%Y, %H:%M:%S')\n",
    "\n",
    "@tool(\"convert_to_japanse_datetime_custom\")\n",
    "def convert_to_japanse_datetime(date_str: Annotated[str, 'date string in ISO format']) -> str :\n",
    "    \"\"\"Convert date string to custom japanese date time\"\"\"\n",
    "    dt = datetime.datetime.fromisoformat(date_str)\n",
    "    return f\"{dt.year}年{dt.month}月{dt.day}日　{dt.hour}時{dt.minute}分{dt.second}秒\"\n",
    "\n",
    "# dir: Annotated[str, 'the directory of the file location, pass in /tmp for default']\n",
    "@tool(\"download_image_from_url\")\n",
    "def download_image_from_url(url: Annotated[str, 'full URL of the web image']) -> dict:\n",
    "    \"Download an image from web and save to local device\"\n",
    "    directory = f'{os.getcwd()}/tmp'\n",
    "    file_name = f\"{directory}/{datetime.datetime.timestamp(datetime.datetime.now())}-agent.png\"\n",
    "    cleaned_url = url.replace(\"'\", '')\n",
    "    try:\n",
    "        res= urllib.request.urlretrieve(cleaned_url,file_name)    \n",
    "        print(res)\n",
    "        os.startfile(file_name)\n",
    "        return  {\n",
    "            \"success\": True,\n",
    "            \"file_name\": file_name\n",
    "        }\n",
    "    except (Exception) as e:\n",
    "         return {\n",
    "                \"success\": False,\n",
    "                \"error\": f\"{e}\",\n",
    "                \"url\": url\n",
    "            }\n",
    "    \n",
    "    "
   ]
  },
  {
   "cell_type": "markdown",
   "metadata": {},
   "source": [
    "Initialized OpenAI LLM"
   ]
  },
  {
   "cell_type": "code",
   "execution_count": 5,
   "metadata": {},
   "outputs": [],
   "source": [
    "# Initialize a ChatOpenAI model\n",
    "llm = ChatOpenAI(\n",
    "    model=\"gpt-4o-mini\",\n",
    "    api_key=os.getenv('OPENAI_KEY'),\n",
    ")\n",
    "\n",
    "tools = [\n",
    "    get_current_datetime,\n",
    "    convert_to_japanse_datetime,\n",
    "    download_image_from_url\n",
    "]\n",
    "\n",
    "prompt = hub.pull(\"hwchase17/react\",api_key=os.getenv('LANGSMITH_KEY'),)\n",
    "agent = create_react_agent(\n",
    "    llm=llm,\n",
    "    tools=tools,\n",
    "    prompt=prompt,\n",
    "    stop_sequence=True,\n",
    ")\n",
    "\n",
    "\n",
    "# Create an agent executor from the agent and tools\n",
    "agent_executor = AgentExecutor.from_agent_and_tools(\n",
    "    agent=agent,\n",
    "    tools=tools,\n",
    "    verbose=True,\n",
    ")"
   ]
  },
  {
   "cell_type": "markdown",
   "metadata": {},
   "source": [
    "Testing"
   ]
  },
  {
   "cell_type": "code",
   "execution_count": 6,
   "metadata": {},
   "outputs": [
    {
     "name": "stdout",
     "output_type": "stream",
     "text": [
      "\n",
      "\n",
      "\u001b[1m> Entering new AgentExecutor chain...\u001b[0m\n",
      "\u001b[32;1m\u001b[1;3mI need to download the image from the provided URL. \n",
      "Action: download_image_from_url \n",
      "Action Input: \"https://encrypted-tbn0.gstatic.com/images?q=tbn:ANd9GcS4ZNGq9_b4Z0Gw-_HXeJLlI0wOPUJnT020Xg&s\" \u001b[0m('c:\\\\Users\\\\USER\\\\my-projects\\\\movie_react_agent/tmp/1740316213.223912-agent.png', <http.client.HTTPMessage object at 0x00000140BC484E80>)\n",
      "\u001b[38;5;200m\u001b[1;3m{'success': True, 'file_name': 'c:\\\\Users\\\\USER\\\\my-projects\\\\movie_react_agent/tmp/1740316213.223912-agent.png'}\u001b[0m\u001b[32;1m\u001b[1;3mI successfully downloaded the image from the provided URL and it is saved locally. \n",
      "\n",
      "Final Answer: The image has been downloaded successfully and saved as 'c:\\\\Users\\\\USER\\\\my-projects\\\\movie_react_agent/tmp/1740316213.223912-agent.png'.\u001b[0m\n",
      "\n",
      "\u001b[1m> Finished chain.\u001b[0m\n",
      "response: {'input': ['Download this image for me: https://encrypted-tbn0.gstatic.com/images?q=tbn:ANd9GcS4ZNGq9_b4Z0Gw-_HXeJLlI0wOPUJnT020Xg&s'], 'output': \"The image has been downloaded successfully and saved as 'c:\\\\\\\\Users\\\\\\\\USER\\\\\\\\my-projects\\\\\\\\movie_react_agent/tmp/1740316213.223912-agent.png'.\"}\n"
     ]
    }
   ],
   "source": [
    "response = agent_executor.invoke(input={\"input\": [\"Download this image for me: https://encrypted-tbn0.gstatic.com/images?q=tbn:ANd9GcS4ZNGq9_b4Z0Gw-_HXeJLlI0wOPUJnT020Xg&s\"]})\n",
    "print(\"response:\", response)"
   ]
  }
 ],
 "metadata": {
  "kernelspec": {
   "display_name": "Python 3",
   "language": "python",
   "name": "python3"
  },
  "language_info": {
   "codemirror_mode": {
    "name": "ipython",
    "version": 3
   },
   "file_extension": ".py",
   "mimetype": "text/x-python",
   "name": "python",
   "nbconvert_exporter": "python",
   "pygments_lexer": "ipython3",
   "version": "3.9.0"
  }
 },
 "nbformat": 4,
 "nbformat_minor": 2
}
