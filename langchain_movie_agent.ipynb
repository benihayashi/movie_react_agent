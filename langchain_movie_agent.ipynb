{
 "cells": [
  {
   "cell_type": "markdown",
   "metadata": {},
   "source": [
    "Import the libraries"
   ]
  },
  {
   "cell_type": "code",
   "execution_count": null,
   "metadata": {},
   "outputs": [
    {
     "data": {
      "text/plain": [
       "True"
      ]
     },
     "execution_count": 28,
     "metadata": {},
     "output_type": "execute_result"
    }
   ],
   "source": [
    "from dotenv import load_dotenv\n",
    "from langchain import hub\n",
    "from langchain_core.tools import tool\n",
    "from langchain_openai import ChatOpenAI\n",
    "import os\n",
    "import datetime\n",
    "import urllib\n",
    "\n",
    "load_dotenv()"
   ]
  },
  {
   "cell_type": "markdown",
   "metadata": {},
   "source": [
    "Define tools"
   ]
  },
  {
   "cell_type": "code",
   "execution_count": 2,
   "metadata": {},
   "outputs": [],
   "source": [
    "from test.test_typing import Annotated\n",
    "\n",
    "\n",
    "@tool(\"get_current_datetime\")\n",
    "def get_current_datetime() -> str :\n",
    "    \"\"\"Get current date and time\"\"\"\n",
    "    return datetime.datetime.now().strftime('%m/%d/%Y, %H:%M:%S')\n",
    "\n",
    "@tool(\"convert_to_japanse_datetime_custom\")\n",
    "def convert_to_japanse_datetime(date_str: Annotated[str, 'date string in ISO format']) -> str :\n",
    "    \"\"\"Convert date string to custom japanese date time\"\"\"\n",
    "    dt = datetime.datetime.fromisoformat(date_str)\n",
    "    return f\"{dt.year}年{dt.month}月{dt.day}日　{dt.hour}時{dt.minute}分{dt.second}秒\"\n",
    "\n",
    "# dir: Annotated[str, 'the directory of the file location, pass in /tmp for default']\n",
    "@tool(\"download_image_from_url\")\n",
    "def download_image_from_url(url: Annotated[str, 'full URL of the web image']) -> dict:\n",
    "    \"Download an image from web and save to local device\"\n",
    "    directory = f'{os.getcwd()}/tmp'\n",
    "    file_name = f\"{directory}/{datetime.datetime.timestamp(datetime.datetime.now())}-agent.png\"\n",
    "    cleaned_url = url.replace(\"'\", '')\n",
    "    try:\n",
    "        res= urllib.request.urlretrieve(cleaned_url,file_name)    \n",
    "        print(res)\n",
    "        os.startfile(file_name)\n",
    "        return  {\n",
    "            \"success\": True,\n",
    "            \"file_name\": file_name\n",
    "        }\n",
    "    except (Exception) as e:\n",
    "         return {\n",
    "                \"success\": False,\n",
    "                \"error\": f\"{e}\",\n",
    "                \"url\": url\n",
    "            }\n",
    "         \n",
    "#TODO: sendemail tool\n",
    "    \n",
    "    "
   ]
  },
  {
   "cell_type": "markdown",
   "metadata": {},
   "source": [
    "Initialized OpenAI LLM"
   ]
  },
  {
   "cell_type": "code",
   "execution_count": 52,
   "metadata": {},
   "outputs": [],
   "source": [
    "from langgraph.checkpoint.memory import MemorySaver\n",
    "from langgraph.prebuilt import create_react_agent\n",
    "\n",
    "# Initialize a ChatOpenAI model\n",
    "llm = ChatOpenAI(\n",
    "    model=\"gpt-4o-mini\",\n",
    "    api_key=os.getenv('OPENAI_KEY'),\n",
    ")\n",
    "\n",
    "tools = [\n",
    "    get_current_datetime,\n",
    "    convert_to_japanse_datetime,\n",
    "    download_image_from_url\n",
    "]\n",
    "\n",
    "# prompt = hub.pull(\"hwchase17/react\",api_key=os.getenv('LANGSMITH_KEY'),)\n",
    "memory = MemorySaver()\n",
    "agent = create_react_agent(\n",
    "    llm,\n",
    "    tools=tools,\n",
    "    # prompt=prompt,\n",
    "    checkpointer=memory,\n",
    ")\n"
   ]
  },
  {
   "cell_type": "markdown",
   "metadata": {},
   "source": [
    "Testing"
   ]
  },
  {
   "cell_type": "code",
   "execution_count": null,
   "metadata": {},
   "outputs": [
    {
     "name": "stdout",
     "output_type": "stream",
     "text": [
      "('c:\\\\Users\\\\USER\\\\my-projects\\\\movie_react_agent/tmp/1740578831.991179-agent.png', <http.client.HTTPMessage object at 0x0000023B9F331510>)\n",
      "question:  Download this image for me: https://encrypted-tbn0.gstatic.com/images?q=tbn:ANd9GcS4ZNGq9_b4Z0Gw-_HXeJLlI0wOPUJnT020Xg&s\n",
      "response:  {'messages': [HumanMessage(content='Download this image for me: https://encrypted-tbn0.gstatic.com/images?q=tbn:ANd9GcS4ZNGq9_b4Z0Gw-_HXeJLlI0wOPUJnT020Xg&s', additional_kwargs={}, response_metadata={}, id='38d6270a-d7ec-433d-bce2-ee3e4686da7a'), AIMessage(content='', additional_kwargs={'tool_calls': [{'id': 'call_mD9yTZI4r0xlv8n1PuSG4zdw', 'function': {'arguments': '{\"url\":\"https://encrypted-tbn0.gstatic.com/images?q=tbn:ANd9GcS4ZNGq9_b4Z0Gw-_HXeJLlI0wOPUJnT020Xg&s\"}', 'name': 'download_image_from_url'}, 'type': 'function'}], 'refusal': None}, response_metadata={'token_usage': {'completion_tokens': 60, 'prompt_tokens': 159, 'total_tokens': 219, 'completion_tokens_details': {'accepted_prediction_tokens': 0, 'audio_tokens': 0, 'reasoning_tokens': 0, 'rejected_prediction_tokens': 0}, 'prompt_tokens_details': {'audio_tokens': 0, 'cached_tokens': 0}}, 'model_name': 'gpt-4o-mini-2024-07-18', 'system_fingerprint': 'fp_709714d124', 'finish_reason': 'tool_calls', 'logprobs': None}, id='run-4d374000-9518-4079-b78c-78f634f34315-0', tool_calls=[{'name': 'download_image_from_url', 'args': {'url': 'https://encrypted-tbn0.gstatic.com/images?q=tbn:ANd9GcS4ZNGq9_b4Z0Gw-_HXeJLlI0wOPUJnT020Xg&s'}, 'id': 'call_mD9yTZI4r0xlv8n1PuSG4zdw', 'type': 'tool_call'}], usage_metadata={'input_tokens': 159, 'output_tokens': 60, 'total_tokens': 219, 'input_token_details': {'audio': 0, 'cache_read': 0}, 'output_token_details': {'audio': 0, 'reasoning': 0}}), ToolMessage(content='{\"success\": true, \"file_name\": \"c:\\\\\\\\Users\\\\\\\\USER\\\\\\\\my-projects\\\\\\\\movie_react_agent/tmp/1740578831.991179-agent.png\"}', name='download_image_from_url', id='4e53fe90-40d9-4039-994d-4166d9c62c67', tool_call_id='call_mD9yTZI4r0xlv8n1PuSG4zdw'), AIMessage(content='The image has been successfully downloaded and saved as `1740578831.991179-agent.png`.', additional_kwargs={'refusal': None}, response_metadata={'token_usage': {'completion_tokens': 22, 'prompt_tokens': 264, 'total_tokens': 286, 'completion_tokens_details': {'accepted_prediction_tokens': 0, 'audio_tokens': 0, 'reasoning_tokens': 0, 'rejected_prediction_tokens': 0}, 'prompt_tokens_details': {'audio_tokens': 0, 'cached_tokens': 0}}, 'model_name': 'gpt-4o-mini-2024-07-18', 'system_fingerprint': 'fp_709714d124', 'finish_reason': 'stop', 'logprobs': None}, id='run-c58918cc-0e32-4b36-b180-f501f5e971d9-0', usage_metadata={'input_tokens': 264, 'output_tokens': 22, 'total_tokens': 286, 'input_token_details': {'audio': 0, 'cache_read': 0}, 'output_token_details': {'audio': 0, 'reasoning': 0}})]}\n"
     ]
    }
   ],
   "source": [
    "import uuid\n",
    "from langchain_core.messages import HumanMessage\n",
    "\n",
    "config = {\"configurable\": {\"thread_id\": uuid.uuid4()}}\n",
    "prompt1 = \"Download this image for me: https://encrypted-tbn0.gstatic.com/images?q=tbn:ANd9GcS4ZNGq9_b4Z0Gw-_HXeJLlI0wOPUJnT020Xg&s\"\n",
    "response = agent.invoke({\"messages\": [HumanMessage(prompt1)]},config=config)\n",
    "print(\"question: \", prompt1)\n",
    "print(\"response: \", response['messages'][-1].content)\n",
    "# for event in agent_executor.stream({\"input\": [HumanMessage(content=prompt1)]}, config):\n",
    "#     print(\"question: \", prompt1)\n",
    "#     print(\"response: \", event['output'])"
   ]
  },
  {
   "cell_type": "code",
   "execution_count": null,
   "metadata": {},
   "outputs": [
    {
     "name": "stdout",
     "output_type": "stream",
     "text": [
      "('c:\\\\Users\\\\USER\\\\my-projects\\\\movie_react_agent/tmp/1740578889.218966-agent.png', <http.client.HTTPMessage object at 0x0000023B95A9B820>)\n",
      "question:  can you download the file again?\n",
      "response:  {'messages': [HumanMessage(content='Download this image for me: https://encrypted-tbn0.gstatic.com/images?q=tbn:ANd9GcS4ZNGq9_b4Z0Gw-_HXeJLlI0wOPUJnT020Xg&s', additional_kwargs={}, response_metadata={}, id='38d6270a-d7ec-433d-bce2-ee3e4686da7a'), AIMessage(content='', additional_kwargs={'tool_calls': [{'id': 'call_mD9yTZI4r0xlv8n1PuSG4zdw', 'function': {'arguments': '{\"url\":\"https://encrypted-tbn0.gstatic.com/images?q=tbn:ANd9GcS4ZNGq9_b4Z0Gw-_HXeJLlI0wOPUJnT020Xg&s\"}', 'name': 'download_image_from_url'}, 'type': 'function'}], 'refusal': None}, response_metadata={'token_usage': {'completion_tokens': 60, 'prompt_tokens': 159, 'total_tokens': 219, 'completion_tokens_details': {'accepted_prediction_tokens': 0, 'audio_tokens': 0, 'reasoning_tokens': 0, 'rejected_prediction_tokens': 0}, 'prompt_tokens_details': {'audio_tokens': 0, 'cached_tokens': 0}}, 'model_name': 'gpt-4o-mini-2024-07-18', 'system_fingerprint': 'fp_709714d124', 'finish_reason': 'tool_calls', 'logprobs': None}, id='run-4d374000-9518-4079-b78c-78f634f34315-0', tool_calls=[{'name': 'download_image_from_url', 'args': {'url': 'https://encrypted-tbn0.gstatic.com/images?q=tbn:ANd9GcS4ZNGq9_b4Z0Gw-_HXeJLlI0wOPUJnT020Xg&s'}, 'id': 'call_mD9yTZI4r0xlv8n1PuSG4zdw', 'type': 'tool_call'}], usage_metadata={'input_tokens': 159, 'output_tokens': 60, 'total_tokens': 219, 'input_token_details': {'audio': 0, 'cache_read': 0}, 'output_token_details': {'audio': 0, 'reasoning': 0}}), ToolMessage(content='{\"success\": true, \"file_name\": \"c:\\\\\\\\Users\\\\\\\\USER\\\\\\\\my-projects\\\\\\\\movie_react_agent/tmp/1740578831.991179-agent.png\"}', name='download_image_from_url', id='4e53fe90-40d9-4039-994d-4166d9c62c67', tool_call_id='call_mD9yTZI4r0xlv8n1PuSG4zdw'), AIMessage(content='The image has been successfully downloaded and saved as `1740578831.991179-agent.png`.', additional_kwargs={'refusal': None}, response_metadata={'token_usage': {'completion_tokens': 22, 'prompt_tokens': 264, 'total_tokens': 286, 'completion_tokens_details': {'accepted_prediction_tokens': 0, 'audio_tokens': 0, 'reasoning_tokens': 0, 'rejected_prediction_tokens': 0}, 'prompt_tokens_details': {'audio_tokens': 0, 'cached_tokens': 0}}, 'model_name': 'gpt-4o-mini-2024-07-18', 'system_fingerprint': 'fp_709714d124', 'finish_reason': 'stop', 'logprobs': None}, id='run-c58918cc-0e32-4b36-b180-f501f5e971d9-0', usage_metadata={'input_tokens': 264, 'output_tokens': 22, 'total_tokens': 286, 'input_token_details': {'audio': 0, 'cache_read': 0}, 'output_token_details': {'audio': 0, 'reasoning': 0}}), HumanMessage(content='can you download the file again?', additional_kwargs={}, response_metadata={}, id='959d5d4b-e7c5-4c78-acbc-b26c9f4e697e'), AIMessage(content='', additional_kwargs={'tool_calls': [{'id': 'call_sPWAC9hDRa4MMFroIq51E1zR', 'function': {'arguments': '{\"url\":\"https://encrypted-tbn0.gstatic.com/images?q=tbn:ANd9GcS4ZNGq9_b4Z0Gw-_HXeJLlI0wOPUJnT020Xg&s\"}', 'name': 'download_image_from_url'}, 'type': 'function'}], 'refusal': None}, response_metadata={'token_usage': {'completion_tokens': 60, 'prompt_tokens': 299, 'total_tokens': 359, 'completion_tokens_details': {'accepted_prediction_tokens': 0, 'audio_tokens': 0, 'reasoning_tokens': 0, 'rejected_prediction_tokens': 0}, 'prompt_tokens_details': {'audio_tokens': 0, 'cached_tokens': 0}}, 'model_name': 'gpt-4o-mini-2024-07-18', 'system_fingerprint': 'fp_709714d124', 'finish_reason': 'tool_calls', 'logprobs': None}, id='run-e8ba8b7f-9367-42d2-b155-bfd6357031b5-0', tool_calls=[{'name': 'download_image_from_url', 'args': {'url': 'https://encrypted-tbn0.gstatic.com/images?q=tbn:ANd9GcS4ZNGq9_b4Z0Gw-_HXeJLlI0wOPUJnT020Xg&s'}, 'id': 'call_sPWAC9hDRa4MMFroIq51E1zR', 'type': 'tool_call'}], usage_metadata={'input_tokens': 299, 'output_tokens': 60, 'total_tokens': 359, 'input_token_details': {'audio': 0, 'cache_read': 0}, 'output_token_details': {'audio': 0, 'reasoning': 0}}), ToolMessage(content='{\"success\": true, \"file_name\": \"c:\\\\\\\\Users\\\\\\\\USER\\\\\\\\my-projects\\\\\\\\movie_react_agent/tmp/1740578889.218966-agent.png\"}', name='download_image_from_url', id='0a538c45-0b0a-41b4-a9f8-25a2801b3fcd', tool_call_id='call_sPWAC9hDRa4MMFroIq51E1zR'), AIMessage(content='The image has been downloaded again and saved as `1740578889.218966-agent.png`.', additional_kwargs={'refusal': None}, response_metadata={'token_usage': {'completion_tokens': 22, 'prompt_tokens': 404, 'total_tokens': 426, 'completion_tokens_details': {'accepted_prediction_tokens': 0, 'audio_tokens': 0, 'reasoning_tokens': 0, 'rejected_prediction_tokens': 0}, 'prompt_tokens_details': {'audio_tokens': 0, 'cached_tokens': 0}}, 'model_name': 'gpt-4o-mini-2024-07-18', 'system_fingerprint': 'fp_709714d124', 'finish_reason': 'stop', 'logprobs': None}, id='run-8a7669b5-adb1-48a2-9cfc-a8ccfa6ce5f9-0', usage_metadata={'input_tokens': 404, 'output_tokens': 22, 'total_tokens': 426, 'input_token_details': {'audio': 0, 'cache_read': 0}, 'output_token_details': {'audio': 0, 'reasoning': 0}})]}\n"
     ]
    }
   ],
   "source": [
    "prompt2 = \"can you download the file again?\"\n",
    "response = agent.invoke({\"messages\": [HumanMessage(prompt2)]},config=config)\n",
    "print(\"question: \", prompt2)\n",
    "print(\"response: \", response['messages'][-1].content)"
   ]
  }
 ],
 "metadata": {
  "kernelspec": {
   "display_name": "Python 3",
   "language": "python",
   "name": "python3"
  },
  "language_info": {
   "codemirror_mode": {
    "name": "ipython",
    "version": 3
   },
   "file_extension": ".py",
   "mimetype": "text/x-python",
   "name": "python",
   "nbconvert_exporter": "python",
   "pygments_lexer": "ipython3",
   "version": "3.10.11"
  }
 },
 "nbformat": 4,
 "nbformat_minor": 2
}
