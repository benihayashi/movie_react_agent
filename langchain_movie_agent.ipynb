{
 "cells": [
  {
   "cell_type": "markdown",
   "metadata": {},
   "source": [
    "Import the libraries"
   ]
  },
  {
   "cell_type": "code",
   "execution_count": null,
   "metadata": {},
   "outputs": [
    {
     "data": {
      "text/plain": [
       "True"
      ]
     },
     "execution_count": 28,
     "metadata": {},
     "output_type": "execute_result"
    }
   ],
   "source": [
    "from dotenv import load_dotenv\n",
    "from langchain import hub\n",
    "from langchain_core.tools import tool\n",
    "from langchain_openai import ChatOpenAI\n",
    "import os\n",
    "import datetime\n",
    "import urllib\n",
    "\n",
    "load_dotenv()"
   ]
  },
  {
   "cell_type": "markdown",
   "metadata": {},
   "source": [
    "Define tools"
   ]
  },
  {
   "cell_type": "code",
   "execution_count": 2,
   "metadata": {},
   "outputs": [],
   "source": [
    "from test.test_typing import Annotated\n",
    "\n",
    "\n",
    "@tool(\"get_current_datetime\")\n",
    "def get_current_datetime() -> str :\n",
    "    \"\"\"Get current date and time\"\"\"\n",
    "    return datetime.datetime.now().strftime('%m/%d/%Y, %H:%M:%S')\n",
    "\n",
    "@tool(\"convert_to_japanse_datetime_custom\")\n",
    "def convert_to_japanse_datetime(date_str: Annotated[str, 'date string in ISO format']) -> str :\n",
    "    \"\"\"Convert date string to custom japanese date time\"\"\"\n",
    "    dt = datetime.datetime.fromisoformat(date_str)\n",
    "    return f\"{dt.year}年{dt.month}月{dt.day}日　{dt.hour}時{dt.minute}分{dt.second}秒\"\n",
    "\n",
    "# dir: Annotated[str, 'the directory of the file location, pass in /tmp for default']\n",
    "@tool(\"download_image_from_url\")\n",
    "def download_image_from_url(url: Annotated[str, 'full URL of the web image']) -> dict:\n",
    "    \"Download an image from web and save to local device\"\n",
    "    directory = f'{os.getcwd()}/tmp'\n",
    "    file_name = f\"{directory}/{datetime.datetime.timestamp(datetime.datetime.now())}-agent.png\"\n",
    "    cleaned_url = url.replace(\"'\", '')\n",
    "    try:\n",
    "        res= urllib.request.urlretrieve(cleaned_url,file_name)    \n",
    "        print(res)\n",
    "        os.startfile(file_name)\n",
    "        return  {\n",
    "            \"success\": True,\n",
    "            \"file_name\": file_name\n",
    "        }\n",
    "    except (Exception) as e:\n",
    "         return {\n",
    "                \"success\": False,\n",
    "                \"error\": f\"{e}\",\n",
    "                \"url\": url\n",
    "            }\n",
    "         \n",
    "#TODO: sendemail tool\n",
    "    \n",
    "    "
   ]
  },
  {
   "cell_type": "markdown",
   "metadata": {},
   "source": [
    "Initialized OpenAI LLM"
   ]
  },
  {
   "cell_type": "code",
   "execution_count": 52,
   "metadata": {},
   "outputs": [],
   "source": [
    "from langgraph.checkpoint.memory import MemorySaver\n",
    "from langgraph.prebuilt import create_react_agent\n",
    "\n",
    "# Initialize a ChatOpenAI model\n",
    "llm = ChatOpenAI(\n",
    "    model=\"gpt-4o-mini\",\n",
    "    api_key=os.getenv('OPENAI_KEY'),\n",
    ")\n",
    "\n",
    "tools = [\n",
    "    get_current_datetime,\n",
    "    convert_to_japanse_datetime,\n",
    "    download_image_from_url\n",
    "]\n",
    "\n",
    "# prompt = hub.pull(\"hwchase17/react\",api_key=os.getenv('LANGSMITH_KEY'),)\n",
    "memory = MemorySaver()\n",
    "agent = create_react_agent(\n",
    "    llm,\n",
    "    tools=tools,\n",
    "    # prompt=prompt,\n",
    "    checkpointer=memory,\n",
    ")\n"
   ]
  },
  {
   "cell_type": "markdown",
   "metadata": {},
   "source": [
    "Testing"
   ]
  },
  {
   "cell_type": "code",
   "execution_count": 61,
   "metadata": {},
   "outputs": [
    {
     "name": "stdout",
     "output_type": "stream",
     "text": [
      "('c:\\\\Users\\\\USER\\\\my-projects\\\\movie_react_agent/tmp/1740579150.229435-agent.png', <http.client.HTTPMessage object at 0x0000023B95AB1CF0>)\n",
      "question:  Download this image for me: https://encrypted-tbn0.gstatic.com/images?q=tbn:ANd9GcS4ZNGq9_b4Z0Gw-_HXeJLlI0wOPUJnT020Xg&s\n",
      "response:  The image has been successfully downloaded and saved as \"1740579150.229435-agent.png\" in the specified directory.\n"
     ]
    }
   ],
   "source": [
    "import uuid\n",
    "from langchain_core.messages import HumanMessage\n",
    "\n",
    "config = {\"configurable\": {\"thread_id\": uuid.uuid4()}}\n",
    "prompt1 = \"Download this image for me: https://encrypted-tbn0.gstatic.com/images?q=tbn:ANd9GcS4ZNGq9_b4Z0Gw-_HXeJLlI0wOPUJnT020Xg&s\"\n",
    "response = agent.invoke({\"messages\": [HumanMessage(prompt1)]},config=config)\n",
    "print(\"question: \", prompt1)\n",
    "print(\"response: \", response['messages'][-1].content)\n",
    "# for event in agent_executor.stream({\"input\": [HumanMessage(content=prompt1)]}, config):\n",
    "#     print(\"question: \", prompt1)\n",
    "#     print(\"response: \", event['output'])"
   ]
  },
  {
   "cell_type": "code",
   "execution_count": 62,
   "metadata": {},
   "outputs": [
    {
     "name": "stdout",
     "output_type": "stream",
     "text": [
      "('c:\\\\Users\\\\USER\\\\my-projects\\\\movie_react_agent/tmp/1740579163.658552-agent.png', <http.client.HTTPMessage object at 0x0000023B9F3600A0>)\n",
      "question:  can you download the file again?\n",
      "response:  The image has been successfully downloaded again and saved as \"1740579163.658552-agent.png\" in the specified directory.\n"
     ]
    }
   ],
   "source": [
    "prompt2 = \"can you download the file again?\"\n",
    "response = agent.invoke({\"messages\": [HumanMessage(prompt2)]},config=config)\n",
    "print(\"question: \", prompt2)\n",
    "print(\"response: \", response['messages'][-1].content)"
   ]
  }
 ],
 "metadata": {
  "kernelspec": {
   "display_name": "Python 3",
   "language": "python",
   "name": "python3"
  },
  "language_info": {
   "codemirror_mode": {
    "name": "ipython",
    "version": 3
   },
   "file_extension": ".py",
   "mimetype": "text/x-python",
   "name": "python",
   "nbconvert_exporter": "python",
   "pygments_lexer": "ipython3",
   "version": "3.10.11"
  }
 },
 "nbformat": 4,
 "nbformat_minor": 2
}
