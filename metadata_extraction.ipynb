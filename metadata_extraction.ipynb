{
 "cells": [
  {
   "cell_type": "markdown",
   "metadata": {},
   "source": [
    "Import the libraries"
   ]
  },
  {
   "cell_type": "code",
   "execution_count": 98,
   "metadata": {},
   "outputs": [],
   "source": [
    "import json\n",
    "import sqlite3\n",
    "import pandas as pd\n",
    "from langchain_openai import ChatOpenAI\n",
    "import os\n",
    "import re"
   ]
  },
  {
   "cell_type": "markdown",
   "metadata": {},
   "source": [
    "Connect to sqlite db"
   ]
  },
  {
   "cell_type": "code",
   "execution_count": null,
   "metadata": {},
   "outputs": [
    {
     "data": {
      "text/html": [
       "<div>\n",
       "<style scoped>\n",
       "    .dataframe tbody tr th:only-of-type {\n",
       "        vertical-align: middle;\n",
       "    }\n",
       "\n",
       "    .dataframe tbody tr th {\n",
       "        vertical-align: top;\n",
       "    }\n",
       "\n",
       "    .dataframe thead th {\n",
       "        text-align: right;\n",
       "    }\n",
       "</style>\n",
       "<table border=\"1\" class=\"dataframe\">\n",
       "  <thead>\n",
       "    <tr style=\"text-align: right;\">\n",
       "      <th></th>\n",
       "      <th>showname</th>\n",
       "      <th>first_airing</th>\n",
       "      <th>imdb</th>\n",
       "      <th>lang</th>\n",
       "      <th>description</th>\n",
       "    </tr>\n",
       "  </thead>\n",
       "  <tbody>\n",
       "    <tr>\n",
       "      <th>0</th>\n",
       "      <td>\"How Ya Been?\" with Jules LeBlanc</td>\n",
       "      <td>2021-05-22</td>\n",
       "      <td>None</td>\n",
       "      <td>English</td>\n",
       "      <td>&lt;p&gt;Jules LeBlanc catches up with her former Ch...</td>\n",
       "    </tr>\n",
       "    <tr>\n",
       "      <th>1</th>\n",
       "      <td>\"Алиби\" на двоих</td>\n",
       "      <td>2011-08-13</td>\n",
       "      <td>None</td>\n",
       "      <td>Russian</td>\n",
       "      <td>&lt;p&gt;Hapless swindler Gosha steals Guarneri's vi...</td>\n",
       "    </tr>\n",
       "    <tr>\n",
       "      <th>2</th>\n",
       "      <td>\"Везёт\"</td>\n",
       "      <td>2021-11-04</td>\n",
       "      <td>None</td>\n",
       "      <td>Russian</td>\n",
       "      <td>&lt;p&gt;Ivan Potapov, a former speedway champion, m...</td>\n",
       "    </tr>\n",
       "    <tr>\n",
       "      <th>3</th>\n",
       "      <td>\"Кедр\" пронзает небо</td>\n",
       "      <td>2011-04-11</td>\n",
       "      <td>tt3189080</td>\n",
       "      <td>Russian</td>\n",
       "      <td>&lt;p&gt;Year 1940. The young scientist Sergei Lykov...</td>\n",
       "    </tr>\n",
       "    <tr>\n",
       "      <th>4</th>\n",
       "      <td>\"Лучшая\" неделя моей жизни</td>\n",
       "      <td>2016-10-10</td>\n",
       "      <td>None</td>\n",
       "      <td>Russian</td>\n",
       "      <td>&lt;p&gt;Comedy series &lt;b&gt;\"Лучшая\" неделя моей жизни...</td>\n",
       "    </tr>\n",
       "    <tr>\n",
       "      <th>...</th>\n",
       "      <td>...</td>\n",
       "      <td>...</td>\n",
       "      <td>...</td>\n",
       "      <td>...</td>\n",
       "      <td>...</td>\n",
       "    </tr>\n",
       "    <tr>\n",
       "      <th>95</th>\n",
       "      <td>1 Contra Todos</td>\n",
       "      <td>2016-06-20</td>\n",
       "      <td>tt5822138</td>\n",
       "      <td>Portuguese</td>\n",
       "      <td>&lt;p&gt;The story of Cadu, a public defender and la...</td>\n",
       "    </tr>\n",
       "    <tr>\n",
       "      <th>96</th>\n",
       "      <td>1 Day With...</td>\n",
       "      <td>2004-09-04</td>\n",
       "      <td>tt0426635</td>\n",
       "      <td>English</td>\n",
       "      <td>&lt;p&gt;Soap actor Wally Kurth (General Hospital) f...</td>\n",
       "    </tr>\n",
       "    <tr>\n",
       "      <th>97</th>\n",
       "      <td>1 For All</td>\n",
       "      <td>2019-10-15</td>\n",
       "      <td>tt11580350</td>\n",
       "      <td>English</td>\n",
       "      <td>&lt;p&gt;An original comedy sketch web series by Dee...</td>\n",
       "    </tr>\n",
       "    <tr>\n",
       "      <th>98</th>\n",
       "      <td>1 Girl 5 Gays</td>\n",
       "      <td>2009-10-14</td>\n",
       "      <td>tt1606854</td>\n",
       "      <td>English</td>\n",
       "      <td>&lt;p&gt;&lt;b&gt;1 Girl 5 Gays&lt;/b&gt; was a Canadian talk sh...</td>\n",
       "    </tr>\n",
       "    <tr>\n",
       "      <th>99</th>\n",
       "      <td>1 Jaar Gratis</td>\n",
       "      <td>2001-12-08</td>\n",
       "      <td>None</td>\n",
       "      <td>Dutch</td>\n",
       "      <td>&lt;p&gt;A tough waste course disguised as a fun qui...</td>\n",
       "    </tr>\n",
       "  </tbody>\n",
       "</table>\n",
       "<p>100 rows × 5 columns</p>\n",
       "</div>"
      ],
      "text/plain": [
       "                             showname first_airing        imdb        lang  \\\n",
       "0   \"How Ya Been?\" with Jules LeBlanc   2021-05-22        None     English   \n",
       "1                    \"Алиби\" на двоих   2011-08-13        None     Russian   \n",
       "2                             \"Везёт\"   2021-11-04        None     Russian   \n",
       "3                \"Кедр\" пронзает небо   2011-04-11   tt3189080     Russian   \n",
       "4          \"Лучшая\" неделя моей жизни   2016-10-10        None     Russian   \n",
       "..                                ...          ...         ...         ...   \n",
       "95                     1 Contra Todos   2016-06-20   tt5822138  Portuguese   \n",
       "96                      1 Day With...   2004-09-04   tt0426635     English   \n",
       "97                          1 For All   2019-10-15  tt11580350     English   \n",
       "98                      1 Girl 5 Gays   2009-10-14   tt1606854     English   \n",
       "99                      1 Jaar Gratis   2001-12-08        None       Dutch   \n",
       "\n",
       "                                          description  \n",
       "0   <p>Jules LeBlanc catches up with her former Ch...  \n",
       "1   <p>Hapless swindler Gosha steals Guarneri's vi...  \n",
       "2   <p>Ivan Potapov, a former speedway champion, m...  \n",
       "3   <p>Year 1940. The young scientist Sergei Lykov...  \n",
       "4   <p>Comedy series <b>\"Лучшая\" неделя моей жизни...  \n",
       "..                                                ...  \n",
       "95  <p>The story of Cadu, a public defender and la...  \n",
       "96  <p>Soap actor Wally Kurth (General Hospital) f...  \n",
       "97  <p>An original comedy sketch web series by Dee...  \n",
       "98  <p><b>1 Girl 5 Gays</b> was a Canadian talk sh...  \n",
       "99  <p>A tough waste course disguised as a fun qui...  \n",
       "\n",
       "[100 rows x 5 columns]"
      ]
     },
     "execution_count": 17,
     "metadata": {},
     "output_type": "execute_result"
    }
   ],
   "source": [
    "cols = ['showname','first_airing','imdb','lang','description']\n",
    "def fetch_rows(limit: int, offset: int):\n",
    "    conn = sqlite3.connect(\"movie_db.sqlite\")\n",
    "    cursor = conn.cursor()\n",
    "    executor = cursor.execute(f'select {\",\".join(cols)} from tvmaze order by showname asc limit {limit} offset {offset}')\n",
    "    data = executor.fetchall()\n",
    "    cursor.close()\n",
    "    conn.close()\n",
    "    return data\n",
    "\n",
    "pd.DataFrame(fetch_rows(100, 0), columns=cols)"
   ]
  },
  {
   "cell_type": "markdown",
   "metadata": {},
   "source": [
    "Prepare NLU"
   ]
  },
  {
   "cell_type": "code",
   "execution_count": null,
   "metadata": {},
   "outputs": [],
   "source": [
    "# Initialize a ChatOpenAI model\n",
    "llm = ChatOpenAI(\n",
    "    model=\"deepseek-r1-distill-llama-8b\",\n",
    "    openai_api_key=\"fake\",\n",
    "    openai_api_base='http://127.0.0.1:1234/v1',\n",
    ")\n"
   ]
  },
  {
   "cell_type": "markdown",
   "metadata": {},
   "source": [
    "Tools for extracting metadata"
   ]
  },
  {
   "cell_type": "code",
   "execution_count": 114,
   "metadata": {},
   "outputs": [],
   "source": [
    "def generate_prompt(values: list[str]):\n",
    "    with open(f'./prompts/movie_metadata_extraction.txt', 'r') as file:\n",
    "        data = file.read().rstrip()\n",
    "        index=0\n",
    "            \n",
    "        while(data.find(f\"!<INPUT_{index}>\") > 0):\n",
    "            data = data.replace(f\"!<INPUT_{index}>\", values[index] if len(values) > index is not None else '')\n",
    "            index+=1\n",
    "        return data\n",
    "\n",
    "    return None;"
   ]
  },
  {
   "cell_type": "markdown",
   "metadata": {},
   "source": [
    "Define job to process data"
   ]
  },
  {
   "cell_type": "code",
   "execution_count": null,
   "metadata": {},
   "outputs": [],
   "source": [
    "from langchain.schema import BaseMessage, HumanMessage\n",
    "\n",
    "def process_job(limit: int, offset: int) -> list[dict]:\n",
    "    results = []\n",
    "    data = fetch_rows(limit, offset)\n",
    "    for row in data:\n",
    "        if(row[4] is not None and len(row[4]) > 0):\n",
    "            prompt = generate_prompt([row[4]])\n",
    "            output = llm.invoke([HumanMessage(content=prompt)])\n",
    "            json_str = re.findall(r\"```json(.*?)```\", output.text(),re.DOTALL)\n",
    "            if(len(json_str) > 0):\n",
    "                try:\n",
    "                    conn = sqlite3.connect(\"movie_db.sqlite\")\n",
    "                    cursor = conn.cursor()\n",
    "                    cursor.execute(f'update tvmaze set metadata = \\'{json.dumps(results[0])}\\' where showname = \\'{row[0]}\\'')\n",
    "                    conn.commit()\n",
    "                    cursor.close()\n",
    "                    conn.close()\n",
    "                    results.append(json.loads(json_str[0]))\n",
    "                except:\n",
    "                    pass\n",
    "            \n",
    "    return results;"
   ]
  },
  {
   "cell_type": "markdown",
   "metadata": {},
   "source": [
    "Process the data"
   ]
  },
  {
   "cell_type": "code",
   "execution_count": 116,
   "metadata": {},
   "outputs": [],
   "source": [
    "results = process_job(1,1)"
   ]
  },
  {
   "cell_type": "code",
   "execution_count": 141,
   "metadata": {},
   "outputs": [],
   "source": [
    "conn = sqlite3.connect(\"movie_db.sqlite\")\n",
    "cursor = conn.cursor()\n",
    "executor = cursor.execute(f'update tvmaze set metadata = \\'{json.dumps(results[0])}\\' where showname = \\'\"Алиби\" на двоих\\'')\n",
    "conn.commit()\n",
    "cursor.close()\n",
    "conn.close()"
   ]
  }
 ],
 "metadata": {
  "kernelspec": {
   "display_name": "Python 3",
   "language": "python",
   "name": "python3"
  },
  "language_info": {
   "codemirror_mode": {
    "name": "ipython",
    "version": 3
   },
   "file_extension": ".py",
   "mimetype": "text/x-python",
   "name": "python",
   "nbconvert_exporter": "python",
   "pygments_lexer": "ipython3",
   "version": "3.9.0"
  }
 },
 "nbformat": 4,
 "nbformat_minor": 2
}
